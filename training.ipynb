{
 "cells": [
  {
   "cell_type": "code",
   "execution_count": 30,
   "metadata": {
    "tags": []
   },
   "outputs": [],
   "source": [
    "import torch\n",
    "from torchsummary import summary\n",
    "import albumentations as A\n",
    "from albumentations.pytorch import ToTensorV2\n",
    "\n",
    "\n",
    "from data import CIFAR10WithAlbumentations\n",
    "from custom_resnet import Net\n",
    "from utils_train import train, test"
   ]
  },
  {
   "cell_type": "code",
   "execution_count": 32,
   "metadata": {
    "tags": []
   },
   "outputs": [
    {
     "name": "stdout",
     "output_type": "stream",
     "text": [
      "Files already downloaded and verified\n",
      "Files already downloaded and verified\n"
     ]
    }
   ],
   "source": [
    "means = [0.4914, 0.4822, 0.4465]\n",
    "stds = [0.2470, 0.2435, 0.2616]\n",
    "\n",
    "train_transforms = A.Compose(\n",
    "    [\n",
    "        A.Normalize(mean=means, std=stds, always_apply=True),\n",
    "        A.PadIfNeeded(min_height=4, min_width=4, always_apply=True),\n",
    "        A.RandomCrop(height=32, width=32, always_apply=True),\n",
    "        A.HorizontalFlip(),\n",
    "        A.CoarseDropout(max_holes=1, max_height=8, max_width=8, min_holes=1, min_height=8, min_width=8, fill_value=means),\n",
    "        ToTensorV2(),\n",
    "    ]\n",
    ")\n",
    "\n",
    "test_transforms = A.Compose(\n",
    "    [\n",
    "        A.Normalize(mean=means, std=stds, always_apply=True),\n",
    "        ToTensorV2(),\n",
    "    ]\n",
    ")\n",
    "\n",
    "train_ds = CIFAR10WithAlbumentations('./data', train=True, download=True, transform=train_transforms)\n",
    "test_ds = CIFAR10WithAlbumentations('./data', train=False, download=True, transform=test_transforms)\n"
   ]
  },
  {
   "cell_type": "code",
   "execution_count": 33,
   "metadata": {
    "tags": []
   },
   "outputs": [
    {
     "name": "stdout",
     "output_type": "stream",
     "text": [
      "CUDA Available? True\n"
     ]
    }
   ],
   "source": [
    "SEED = 1\n",
    "cuda = torch.cuda.is_available()\n",
    "print(\"CUDA Available?\", cuda)\n",
    "\n",
    "# For reproducibility\n",
    "torch.manual_seed(SEED)\n",
    "\n",
    "if cuda:\n",
    "    torch.cuda.manual_seed(SEED)\n",
    "\n",
    "# dataloader arguments - something you'll fetch these from cmdprmt\n",
    "dataloader_args = dict(shuffle=True, batch_size=512, num_workers=4, pin_memory=True) if cuda else dict(shuffle=True, batch_size=64)\n",
    "\n",
    "# train dataloader\n",
    "train_loader = torch.utils.data.DataLoader(train_ds, **dataloader_args)\n",
    "\n",
    "# test dataloader\n",
    "test_loader = torch.utils.data.DataLoader(test_ds, **dataloader_args)\n"
   ]
  },
  {
   "cell_type": "code",
   "execution_count": 23,
   "metadata": {
    "tags": []
   },
   "outputs": [
    {
     "name": "stdout",
     "output_type": "stream",
     "text": [
      "cuda\n",
      "----------------------------------------------------------------\n",
      "        Layer (type)               Output Shape         Param #\n",
      "================================================================\n",
      "            Conv2d-1           [-1, 64, 32, 32]           1,728\n",
      "              ReLU-2           [-1, 64, 32, 32]               0\n",
      "       BatchNorm2d-3           [-1, 64, 32, 32]             128\n",
      "           Dropout-4           [-1, 64, 32, 32]               0\n",
      "            Conv2d-5          [-1, 128, 32, 32]          73,728\n",
      "              ReLU-6          [-1, 128, 32, 32]               0\n",
      "       BatchNorm2d-7          [-1, 128, 32, 32]             256\n",
      "           Dropout-8          [-1, 128, 32, 32]               0\n",
      "         MaxPool2d-9          [-1, 128, 16, 16]               0\n",
      "           Conv2d-10          [-1, 128, 16, 16]         147,456\n",
      "             ReLU-11          [-1, 128, 16, 16]               0\n",
      "      BatchNorm2d-12          [-1, 128, 16, 16]             256\n",
      "          Dropout-13          [-1, 128, 16, 16]               0\n",
      "           Conv2d-14          [-1, 128, 16, 16]         147,456\n",
      "             ReLU-15          [-1, 128, 16, 16]               0\n",
      "      BatchNorm2d-16          [-1, 128, 16, 16]             256\n",
      "          Dropout-17          [-1, 128, 16, 16]               0\n",
      "           Conv2d-18          [-1, 256, 16, 16]         294,912\n",
      "             ReLU-19          [-1, 256, 16, 16]               0\n",
      "      BatchNorm2d-20          [-1, 256, 16, 16]             512\n",
      "          Dropout-21          [-1, 256, 16, 16]               0\n",
      "        MaxPool2d-22            [-1, 256, 8, 8]               0\n",
      "           Conv2d-23            [-1, 512, 8, 8]       1,179,648\n",
      "             ReLU-24            [-1, 512, 8, 8]               0\n",
      "      BatchNorm2d-25            [-1, 512, 8, 8]           1,024\n",
      "          Dropout-26            [-1, 512, 8, 8]               0\n",
      "        MaxPool2d-27            [-1, 512, 4, 4]               0\n",
      "           Conv2d-28            [-1, 512, 4, 4]       2,359,296\n",
      "             ReLU-29            [-1, 512, 4, 4]               0\n",
      "      BatchNorm2d-30            [-1, 512, 4, 4]           1,024\n",
      "          Dropout-31            [-1, 512, 4, 4]               0\n",
      "           Conv2d-32            [-1, 512, 4, 4]       2,359,296\n",
      "             ReLU-33            [-1, 512, 4, 4]               0\n",
      "      BatchNorm2d-34            [-1, 512, 4, 4]           1,024\n",
      "          Dropout-35            [-1, 512, 4, 4]               0\n",
      "        MaxPool2d-36            [-1, 512, 1, 1]               0\n",
      "           Linear-37                   [-1, 10]           5,130\n",
      "================================================================\n",
      "Total params: 6,573,130\n",
      "Trainable params: 6,573,130\n",
      "Non-trainable params: 0\n",
      "----------------------------------------------------------------\n",
      "Input size (MB): 0.01\n",
      "Forward/backward pass size (MB): 11.94\n",
      "Params size (MB): 25.07\n",
      "Estimated Total Size (MB): 37.03\n",
      "----------------------------------------------------------------\n"
     ]
    }
   ],
   "source": [
    "use_cuda = torch.cuda.is_available()\n",
    "device = torch.device(\"cuda\" if use_cuda else \"cpu\")\n",
    "print(device)\n",
    "\n",
    "model = Net().to(device)\n",
    "summary(model, input_size=(3, 32, 32))"
   ]
  },
  {
   "cell_type": "code",
   "execution_count": 41,
   "metadata": {
    "tags": []
   },
   "outputs": [],
   "source": [
    "train_losses = []\n",
    "test_losses = []\n",
    "train_acc = []\n",
    "test_acc = []"
   ]
  },
  {
   "cell_type": "code",
   "execution_count": null,
   "metadata": {
    "tags": []
   },
   "outputs": [
    {
     "name": "stdout",
     "output_type": "stream",
     "text": [
      "EPOCH: 0\n"
     ]
    },
    {
     "name": "stderr",
     "output_type": "stream",
     "text": [
      "Loss=1.4879919290542603 Batch_id=97 Accuracy=30.77: 100%|██████████| 98/98 [00:25<00:00,  3.83it/s]\n"
     ]
    },
    {
     "name": "stdout",
     "output_type": "stream",
     "text": [
      "\n",
      "Test set: Average loss: 1.6490, Accuracy: 4050/10000 (40.50%)\n",
      "\n",
      "EPOCH: 1\n"
     ]
    },
    {
     "name": "stderr",
     "output_type": "stream",
     "text": [
      "Loss=1.4426014423370361 Batch_id=97 Accuracy=48.76: 100%|██████████| 98/98 [00:26<00:00,  3.68it/s]\n"
     ]
    },
    {
     "name": "stdout",
     "output_type": "stream",
     "text": [
      "\n",
      "Test set: Average loss: 1.3136, Accuracy: 5474/10000 (54.74%)\n",
      "\n",
      "EPOCH: 2\n"
     ]
    },
    {
     "name": "stderr",
     "output_type": "stream",
     "text": [
      "Loss=1.143445372581482 Batch_id=97 Accuracy=58.37: 100%|██████████| 98/98 [00:27<00:00,  3.57it/s] \n"
     ]
    },
    {
     "name": "stdout",
     "output_type": "stream",
     "text": [
      "\n",
      "Test set: Average loss: 1.0598, Accuracy: 6248/10000 (62.48%)\n",
      "\n",
      "EPOCH: 3\n"
     ]
    },
    {
     "name": "stderr",
     "output_type": "stream",
     "text": [
      "Loss=0.8664868474006653 Batch_id=97 Accuracy=66.15: 100%|██████████| 98/98 [00:27<00:00,  3.61it/s]\n"
     ]
    },
    {
     "name": "stdout",
     "output_type": "stream",
     "text": [
      "\n",
      "Test set: Average loss: 0.9966, Accuracy: 6523/10000 (65.23%)\n",
      "\n",
      "EPOCH: 4\n"
     ]
    },
    {
     "name": "stderr",
     "output_type": "stream",
     "text": [
      "Loss=0.8230717182159424 Batch_id=97 Accuracy=71.22: 100%|██████████| 98/98 [00:27<00:00,  3.62it/s]\n"
     ]
    },
    {
     "name": "stdout",
     "output_type": "stream",
     "text": [
      "\n",
      "Test set: Average loss: 0.8641, Accuracy: 7140/10000 (71.40%)\n",
      "\n",
      "EPOCH: 5\n"
     ]
    },
    {
     "name": "stderr",
     "output_type": "stream",
     "text": [
      "Loss=0.6936295628547668 Batch_id=97 Accuracy=76.25: 100%|██████████| 98/98 [00:27<00:00,  3.62it/s]\n"
     ]
    },
    {
     "name": "stdout",
     "output_type": "stream",
     "text": [
      "\n",
      "Test set: Average loss: 0.8161, Accuracy: 7229/10000 (72.29%)\n",
      "\n",
      "EPOCH: 6\n"
     ]
    },
    {
     "name": "stderr",
     "output_type": "stream",
     "text": [
      "Loss=0.621336042881012 Batch_id=97 Accuracy=78.88: 100%|██████████| 98/98 [00:27<00:00,  3.62it/s]  \n"
     ]
    },
    {
     "name": "stdout",
     "output_type": "stream",
     "text": [
      "\n",
      "Test set: Average loss: 0.6605, Accuracy: 7834/10000 (78.34%)\n",
      "\n",
      "EPOCH: 7\n"
     ]
    },
    {
     "name": "stderr",
     "output_type": "stream",
     "text": [
      "Loss=0.503520667552948 Batch_id=97 Accuracy=81.38: 100%|██████████| 98/98 [00:27<00:00,  3.62it/s]  \n"
     ]
    },
    {
     "name": "stdout",
     "output_type": "stream",
     "text": [
      "\n",
      "Test set: Average loss: 0.6734, Accuracy: 7825/10000 (78.25%)\n",
      "\n",
      "EPOCH: 8\n"
     ]
    },
    {
     "name": "stderr",
     "output_type": "stream",
     "text": [
      "Loss=0.4869544506072998 Batch_id=97 Accuracy=83.06: 100%|██████████| 98/98 [00:27<00:00,  3.58it/s] \n"
     ]
    },
    {
     "name": "stdout",
     "output_type": "stream",
     "text": [
      "\n",
      "Test set: Average loss: 0.6062, Accuracy: 8007/10000 (80.07%)\n",
      "\n",
      "EPOCH: 9\n"
     ]
    },
    {
     "name": "stderr",
     "output_type": "stream",
     "text": [
      "Loss=0.4928434491157532 Batch_id=97 Accuracy=84.91: 100%|██████████| 98/98 [00:27<00:00,  3.52it/s] \n"
     ]
    },
    {
     "name": "stdout",
     "output_type": "stream",
     "text": [
      "\n",
      "Test set: Average loss: 0.5615, Accuracy: 8202/10000 (82.02%)\n",
      "\n",
      "EPOCH: 10\n"
     ]
    },
    {
     "name": "stderr",
     "output_type": "stream",
     "text": [
      "Loss=0.34550741314888 Batch_id=97 Accuracy=86.51: 100%|██████████| 98/98 [00:27<00:00,  3.59it/s]   \n"
     ]
    },
    {
     "name": "stdout",
     "output_type": "stream",
     "text": [
      "\n",
      "Test set: Average loss: 0.5557, Accuracy: 8253/10000 (82.53%)\n",
      "\n",
      "EPOCH: 11\n"
     ]
    },
    {
     "name": "stderr",
     "output_type": "stream",
     "text": [
      "Loss=0.2929704189300537 Batch_id=97 Accuracy=87.82: 100%|██████████| 98/98 [00:26<00:00,  3.65it/s] \n"
     ]
    },
    {
     "name": "stdout",
     "output_type": "stream",
     "text": [
      "\n",
      "Test set: Average loss: 0.5466, Accuracy: 8307/10000 (83.07%)\n",
      "\n",
      "EPOCH: 12\n"
     ]
    },
    {
     "name": "stderr",
     "output_type": "stream",
     "text": [
      "Loss=0.40034154057502747 Batch_id=97 Accuracy=89.01: 100%|██████████| 98/98 [00:27<00:00,  3.62it/s]\n"
     ]
    },
    {
     "name": "stdout",
     "output_type": "stream",
     "text": [
      "\n",
      "Test set: Average loss: 0.5438, Accuracy: 8361/10000 (83.61%)\n",
      "\n",
      "EPOCH: 13\n"
     ]
    },
    {
     "name": "stderr",
     "output_type": "stream",
     "text": [
      "Loss=0.2906898856163025 Batch_id=97 Accuracy=89.57: 100%|██████████| 98/98 [00:27<00:00,  3.54it/s] \n"
     ]
    },
    {
     "name": "stdout",
     "output_type": "stream",
     "text": [
      "\n",
      "Test set: Average loss: 0.5418, Accuracy: 8366/10000 (83.66%)\n",
      "\n",
      "EPOCH: 14\n"
     ]
    },
    {
     "name": "stderr",
     "output_type": "stream",
     "text": [
      "Loss=0.3396380841732025 Batch_id=97 Accuracy=90.94: 100%|██████████| 98/98 [00:27<00:00,  3.60it/s] \n"
     ]
    },
    {
     "name": "stdout",
     "output_type": "stream",
     "text": [
      "\n",
      "Test set: Average loss: 0.5316, Accuracy: 8383/10000 (83.83%)\n",
      "\n",
      "EPOCH: 15\n"
     ]
    },
    {
     "name": "stderr",
     "output_type": "stream",
     "text": [
      "Loss=0.21374957263469696 Batch_id=97 Accuracy=91.69: 100%|██████████| 98/98 [00:26<00:00,  3.65it/s]\n"
     ]
    },
    {
     "name": "stdout",
     "output_type": "stream",
     "text": [
      "\n",
      "Test set: Average loss: 0.5086, Accuracy: 8552/10000 (85.52%)\n",
      "\n",
      "EPOCH: 16\n"
     ]
    },
    {
     "name": "stderr",
     "output_type": "stream",
     "text": [
      "Loss=0.2035236805677414 Batch_id=97 Accuracy=92.62: 100%|██████████| 98/98 [00:26<00:00,  3.65it/s] \n"
     ]
    },
    {
     "name": "stdout",
     "output_type": "stream",
     "text": [
      "\n",
      "Test set: Average loss: 0.5352, Accuracy: 8512/10000 (85.12%)\n",
      "\n",
      "EPOCH: 17\n"
     ]
    },
    {
     "name": "stderr",
     "output_type": "stream",
     "text": [
      "Loss=0.30982136726379395 Batch_id=97 Accuracy=92.69: 100%|██████████| 98/98 [00:27<00:00,  3.57it/s]\n"
     ]
    },
    {
     "name": "stdout",
     "output_type": "stream",
     "text": [
      "\n",
      "Test set: Average loss: 0.5392, Accuracy: 8524/10000 (85.24%)\n",
      "\n",
      "EPOCH: 18\n"
     ]
    },
    {
     "name": "stderr",
     "output_type": "stream",
     "text": [
      "Loss=0.29852205514907837 Batch_id=97 Accuracy=93.54: 100%|██████████| 98/98 [00:27<00:00,  3.54it/s]\n"
     ]
    },
    {
     "name": "stdout",
     "output_type": "stream",
     "text": [
      "\n",
      "Test set: Average loss: 0.5132, Accuracy: 8624/10000 (86.24%)\n",
      "\n",
      "EPOCH: 19\n"
     ]
    },
    {
     "name": "stderr",
     "output_type": "stream",
     "text": [
      "Loss=0.17050530016422272 Batch_id=97 Accuracy=93.73: 100%|██████████| 98/98 [00:26<00:00,  3.63it/s]\n"
     ]
    },
    {
     "name": "stdout",
     "output_type": "stream",
     "text": [
      "\n",
      "Test set: Average loss: 0.5380, Accuracy: 8553/10000 (85.53%)\n",
      "\n",
      "EPOCH: 20\n"
     ]
    },
    {
     "name": "stderr",
     "output_type": "stream",
     "text": [
      "Loss=0.197427436709404 Batch_id=21 Accuracy=95.01:  22%|██▏       | 22/98 [00:06<00:20,  3.70it/s]  "
     ]
    }
   ],
   "source": [
    "model =  Net().to(device)\n",
    "optimizer = torch.optim.Adam(model.parameters(), lr=0.01)\n",
    "# scheduler = CosineAnnealingLR(optimizer, T_max=100, verbose=True)\n",
    "\n",
    "EPOCHS = 24\n",
    "for epoch in range(EPOCHS):\n",
    "    print(\"EPOCH:\", epoch)\n",
    "    train(model, device, train_loader, optimizer, epoch, train_losses, train_acc)\n",
    "    # scheduler.step()\n",
    "    test(model, device, test_loader, test_losses, test_acc)\n"
   ]
  },
  {
   "cell_type": "code",
   "execution_count": null,
   "metadata": {},
   "outputs": [],
   "source": []
  }
 ],
 "metadata": {
  "kernelspec": {
   "display_name": "default:Python",
   "language": "python",
   "name": "conda-env-default-py"
  },
  "language_info": {
   "codemirror_mode": {
    "name": "ipython",
    "version": 3
   },
   "file_extension": ".py",
   "mimetype": "text/x-python",
   "name": "python",
   "nbconvert_exporter": "python",
   "pygments_lexer": "ipython3",
   "version": "3.9.16"
  }
 },
 "nbformat": 4,
 "nbformat_minor": 4
}
